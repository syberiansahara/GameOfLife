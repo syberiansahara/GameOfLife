{
 "cells": [
  {
   "cell_type": "markdown",
   "metadata": {},
   "source": [
    "# Марина Белялова – Game of Life\n",
    "\n",
    "В условиях поставленной задачи было предложено два решения.\n",
    "\n",
    "Первое решение однопоточное – класс GameOfLifeSimple.\n",
    "\n",
    "Второе решение – класс GameOfLifeMulti – использует N потоков (по размерности матрицы). Один поток обрабатывает одну строку массива. C помощью механизмов wait, notify и notifyAll реализовано ожидание потоками завершения работы остальных потоков на данной итерации. Потоки реализуются подклассом RowHandler класса GameOfLifeMulti. При этом экземпляр класса GameOfLifeMulti играет роль основного потока, который обновляет сетку состояния и после этого запускает потоки для следующей итерации.\n",
    "\n",
    "В классе Main проводятся расчёты и сравнение работы двух алгоритмов. Расчёты запускаются несколько раз (параметр EXPERIMENT_COUNT), после чего в классе Results считается медианная величина времени работы.\n",
    "\n",
    "Результаты измерения и сравнения времени работы двух алгоритмов на тестовых данных приведены ниже."
   ]
  }
 ],
 "metadata": {
  "kernelspec": {
   "display_name": "Python 2",
   "language": "python",
   "name": "python2"
  },
  "language_info": {
   "codemirror_mode": {
    "name": "ipython",
    "version": 2
   },
   "file_extension": ".py",
   "mimetype": "text/x-python",
   "name": "python",
   "nbconvert_exporter": "python",
   "pygments_lexer": "ipython2",
   "version": "2.7.11"
  }
 },
 "nbformat": 4,
 "nbformat_minor": 0
}
